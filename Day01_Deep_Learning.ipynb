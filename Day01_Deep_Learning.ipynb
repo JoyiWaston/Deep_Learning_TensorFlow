{
 "cells": [
  {
   "cell_type": "code",
   "execution_count": 32,
   "id": "307e9282",
   "metadata": {},
   "outputs": [],
   "source": [
    "import tensorflow as tf"
   ]
  },
  {
   "cell_type": "code",
   "execution_count": 33,
   "id": "b6fd74f0",
   "metadata": {},
   "outputs": [
    {
     "name": "stdout",
     "output_type": "stream",
     "text": [
      "2.6.0\n"
     ]
    }
   ],
   "source": [
    "print(tf.__version__)"
   ]
  },
  {
   "cell_type": "code",
   "execution_count": 34,
   "id": "1e79624a",
   "metadata": {},
   "outputs": [],
   "source": [
    "mnist = tf.keras.datasets.fashion_mnist"
   ]
  },
  {
   "cell_type": "code",
   "execution_count": 35,
   "id": "65944bfc",
   "metadata": {},
   "outputs": [],
   "source": [
    "(training_images, training_labels), (test_images, test_labels) = mnist.load_data()"
   ]
  },
  {
   "cell_type": "code",
   "execution_count": 36,
   "id": "6ff4475b",
   "metadata": {},
   "outputs": [
    {
     "name": "stdout",
     "output_type": "stream",
     "text": [
      "9\n",
      "[[  0   0   0   0   0   0   0   0   0   0   0   0   0   0   0   0   0   0\n",
      "    0   0   0   0   0   0   0   0   0   0]\n",
      " [  0   0   0   0   0   0   0   0   0   0   0   0   0   0   0   0   0   0\n",
      "    0   0   0   0   0   0   0   0   0   0]\n",
      " [  0   0   0   0   0   0   0   0   0   0   0   0   0   0   0   0   0   0\n",
      "    0   0   0   0   0   0   0   0   0   0]\n",
      " [  0   0   0   0   0   0   0   0   0   0   0   0   0   0   0   0   0   0\n",
      "    0   0   0   0   0   0   0   0   0   0]\n",
      " [  0   0   0   0   0   0   0   0   0   1   0   0   0   0   2   0   1   0\n",
      "   16  94   0   0   2   1   1   0   1   0]\n",
      " [  0   0   0   0   0   0   0   0   0   0   1   0   1   1   0   0   1   0\n",
      "  101 196 187   8   0   0   0   1   0   0]\n",
      " [  0   0   0   0   0   0   0   0   0   0   1   0   1   1   0   1   0   0\n",
      "  161 167 166 112  11   1   0   0   6   0]\n",
      " [  0   0   0   0   0   0   0   0   0   1   0   0   0   0   0   3   0 121\n",
      "  213 187 183 180 179 155 147 129 175   8]\n",
      " [  0   0   0   0   0   0   0   0   0   0   1   0   0   1   2   1   0 119\n",
      "  198 183 185 170 185 172 170 170 146   2]\n",
      " [  0   0   0   0   0   0   0   0   0   0   0   0   0   2   3   0   0 175\n",
      "  208 176 212 180 174 166 164 164 144   0]\n",
      " [  0   0   0   0   0   0   0   0   0   0   0   0   0   2   0   0  73 255\n",
      "  192 134 175 183 192 184 189 179 193   0]\n",
      " [  0   0   0   0   0   0   0   0   0   0   0   2   1   0   0  70 192 170\n",
      "  134 189 192 175 157 156 171 149 180   8]\n",
      " [  0   0   0   1   0   0   0   0   0   1   3   1   0  35  99 181 183 126\n",
      "  175 197 208 203 197 188 175 158 187  14]\n",
      " [  1   1   0   0   1   1   1   1   2   2   0   0  70 188 188 116 131 180\n",
      "  202 190 181 188 187 175 167 156 199  34]\n",
      " [  0   0   3   3   2   0   0   0   0   0   3  69 179 106 134 151 187 183\n",
      "  178 171 169 187 187 183 188 167 210  53]\n",
      " [  0   0   0   0   0   0   1  11  19  57 114 130 125 129 160 174 178 184\n",
      "  185 196 197 198 192 188 189 166 211  52]\n",
      " [  7   0  29  87  88 105 101  99 108 110 110 137 155 166 174 179 174 176\n",
      "  180 181 181 180 180 184 174 169 211  66]\n",
      " [  0  19 143 119 115 116 111 114 119 116 125 139 147 155 158 161 170 172\n",
      "  174 174 179 188 192 184 170 174 203  85]\n",
      " [  0  98 162 148 146 140 137 146 147 152 153 155 158 164 166 169 171 172\n",
      "  179 175 176 180 187 180 180 183 197  92]\n",
      " [ 49 128 133 162 175 179 178 165 162 157 158 165 178 180 180 187 190 194\n",
      "  202 207 210 205 216 217 212 212 216  94]\n",
      " [ 28 131 138 140 144 161 171 184 196 194 194 197 205 208 206 202 201 201\n",
      "  197 194 190 180 175 165 152 147 157 112]\n",
      " [  0   0  48 116 158 164 151 157 160 169 172 172 172 183 185 202 181 171\n",
      "  152 170 170 162 167 175 170 162 157 123]\n",
      " [  3   0   0   0   6  53 105 143 169 165 185 183 194 172  69  38  20   1\n",
      "    0  67 216 213 202 210 208 198 192 134]\n",
      " [  0   2   2   0   0   0   0   0   0   0   0   0   5   1   0   0   0   1\n",
      "    0   0  47  56  48  41  43  39  35   1]\n",
      " [  0   0   0   0   0   0   0   0   0   0   0   0   0   0   0   0   0   0\n",
      "    0   0   0   0   0   0   0   0   0   0]\n",
      " [  0   0   0   0   0   0   0   0   0   0   0   0   0   0   0   0   0   0\n",
      "    0   0   0   0   0   0   0   0   0   0]\n",
      " [  0   0   0   0   0   0   0   0   0   0   0   0   0   0   0   0   0   0\n",
      "    0   0   0   0   0   0   0   0   0   0]\n",
      " [  0   0   0   0   0   0   0   0   0   0   0   0   0   0   0   0   0   0\n",
      "    0   0   0   0   0   0   0   0   0   0]]\n"
     ]
    },
    {
     "data": {
      "image/png": "[encoded data removed]",
      "text/plain": [
       "<Figure size 432x288 with 1 Axes>"
      ]
     },
     "metadata": {
      "needs_background": "light"
     },
     "output_type": "display_data"
    }
   ],
   "source": [
    "import matplotlib.pyplot as plt\n",
    "plt.imshow(training_images[50000])\n",
    "print(training_labels[50000])\n",
    "print(training_images[50000])"
   ]
  },
  {
   "cell_type": "code",
   "execution_count": 37,
   "id": "ac8983a4",
   "metadata": {},
   "outputs": [],
   "source": [
    "training_images = training_images / 255.0\n",
    "test_images = test_images / 255.0"
   ]
  },
  {
   "cell_type": "code",
   "execution_count": 38,
   "id": "99a87e77",
   "metadata": {},
   "outputs": [],
   "source": [
    "model = tf.keras.models.Sequential([\n",
    "    tf.keras.layers.Flatten(),\n",
    "    tf.keras.layers.Dense(128, activation=tf.nn.relu),\n",
    "    tf.keras.layers.Dense(10, activation=tf.nn.softmax)\n",
    "])"
   ]
  },
  {
   "cell_type": "code",
   "execution_count": 41,
   "id": "a3ca511c",
   "metadata": {},
   "outputs": [
    {
     "name": "stdout",
     "output_type": "stream",
     "text": [
      "Epoch 1/32\n",
      "1875/1875 [==============================] - 7s 3ms/step - loss: 0.2803\n",
      "Epoch 2/32\n",
      "1875/1875 [==============================] - 4s 2ms/step - loss: 0.2684\n",
      "Epoch 3/32\n",
      "1875/1875 [==============================] - 6s 3ms/step - loss: 0.2578\n",
      "Epoch 4/32\n",
      "1875/1875 [==============================] - 4s 2ms/step - loss: 0.2478\n",
      "Epoch 5/32\n",
      "1875/1875 [==============================] - 7s 4ms/step - loss: 0.2387\n",
      "Epoch 6/32\n",
      "1875/1875 [==============================] - 5s 3ms/step - loss: 0.2300\n",
      "Epoch 7/32\n",
      "1875/1875 [==============================] - 7s 3ms/step - loss: 0.2233\n",
      "Epoch 8/32\n",
      "1875/1875 [==============================] - 5s 3ms/step - loss: 0.2145\n",
      "Epoch 9/32\n",
      "1875/1875 [==============================] - 5s 2ms/step - loss: 0.2091\n",
      "Epoch 10/32\n",
      "1875/1875 [==============================] - 6s 3ms/step - loss: 0.2040\n",
      "Epoch 11/32\n",
      "1875/1875 [==============================] - 5s 3ms/step - loss: 0.1998\n",
      "Epoch 12/32\n",
      "1875/1875 [==============================] - 6s 3ms/step - loss: 0.1922\n",
      "Epoch 13/32\n",
      "1875/1875 [==============================] - 6s 3ms/step - loss: 0.1888\n",
      "Epoch 14/32\n",
      "1875/1875 [==============================] - 6s 3ms/step - loss: 0.1843A: 0s\n",
      "Epoch 15/32\n",
      "1875/1875 [==============================] - 5s 3ms/step - loss: 0.1787\n",
      "Epoch 16/32\n",
      "1875/1875 [==============================] - 5s 3ms/step - loss: 0.1746\n",
      "Epoch 17/32\n",
      "1875/1875 [==============================] - 5s 3ms/step - loss: 0.1700\n",
      "Epoch 18/32\n",
      "1875/1875 [==============================] - 6s 3ms/step - loss: 0.1656\n",
      "Epoch 19/32\n",
      "1875/1875 [==============================] - 6s 3ms/step - loss: 0.1626\n",
      "Epoch 20/32\n",
      "1875/1875 [==============================] - 7s 4ms/step - loss: 0.1598\n",
      "Epoch 21/32\n",
      "1875/1875 [==============================] - 6s 3ms/step - loss: 0.1550\n",
      "Epoch 22/32\n",
      "1875/1875 [==============================] - 7s 4ms/step - loss: 0.1528\n",
      "Epoch 23/32\n",
      "1875/1875 [==============================] - 8s 4ms/step - loss: 0.1500\n",
      "Epoch 24/32\n",
      "1875/1875 [==============================] - 6s 3ms/step - loss: 0.1464\n",
      "Epoch 25/32\n",
      "1875/1875 [==============================] - 7s 4ms/step - loss: 0.1437\n",
      "Epoch 26/32\n",
      "1875/1875 [==============================] - 4s 2ms/step - loss: 0.1395\n",
      "Epoch 27/32\n",
      "1875/1875 [==============================] - 8s 4ms/step - loss: 0.1367\n",
      "Epoch 28/32\n",
      "1875/1875 [==============================] - 8s 4ms/step - loss: 0.1344\n",
      "Epoch 29/32\n",
      "1875/1875 [==============================] - 7s 4ms/step - loss: 0.1327\n",
      "Epoch 30/32\n",
      "1875/1875 [==============================] - 5s 2ms/step - loss: 0.1297\n",
      "Epoch 31/32\n",
      "1875/1875 [==============================] - 5s 2ms/step - loss: 0.1257\n",
      "Epoch 32/32\n",
      "1875/1875 [==============================] - 4s 2ms/step - loss: 0.1248\n"
     ]
    },
    {
     "data": {
      "text/plain": [
       "<keras.callbacks.History at 0x2e005405ac0>"
      ]
     },
     "execution_count": 41,
     "metadata": {},
     "output_type": "execute_result"
    }
   ],
   "source": [
    "model.compile(optimizer = tf.keras.optimizers.Adam(), loss = 'sparse_categorical_crossentropy')\n",
    "model.fit(training_images, training_labels, epochs=32)"
   ]
  },
  {
   "cell_type": "code",
   "execution_count": 42,
   "id": "d13ac30d",
   "metadata": {},
   "outputs": [
    {
     "name": "stdout",
     "output_type": "stream",
     "text": [
      "313/313 [==============================] - 1s 3ms/step - loss: 0.4226\n"
     ]
    },
    {
     "data": {
      "text/plain": [
       "0.42264077067375183"
      ]
     },
     "execution_count": 42,
     "metadata": {},
     "output_type": "execute_result"
    }
   ],
   "source": [
    "model.evaluate(test_images, test_labels)"
   ]
  }
 ],
 "metadata": {
  "kernelspec": {
   "display_name": "Python 3 (ipykernel)",
   "language": "python",
   "name": "python3"
  },
  "language_info": {
   "codemirror_mode": {
    "name": "ipython",
    "version": 3
   },
   "file_extension": ".py",
   "mimetype": "text/x-python",
   "name": "python",
   "nbconvert_exporter": "python",
   "pygments_lexer": "ipython3",
   "version": "3.9.5"
  }
 },
 "nbformat": 4,
 "nbformat_minor": 5
}
